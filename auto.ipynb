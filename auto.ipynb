{
  "nbformat": 4,
  "nbformat_minor": 0,
  "metadata": {
    "colab": {
      "provenance": [],
      "authorship_tag": "ABX9TyMvK+XtEyrb336TsjyUC3Ev",
      "include_colab_link": true
    },
    "kernelspec": {
      "name": "python3",
      "display_name": "Python 3"
    },
    "language_info": {
      "name": "python"
    }
  },
  "cells": [
    {
      "cell_type": "markdown",
      "metadata": {
        "id": "view-in-github",
        "colab_type": "text"
      },
      "source": [
        "<a href=\"https://colab.research.google.com/github/leemutai/Intro_to_datascience/blob/main/auto.ipynb\" target=\"_parent\"><img src=\"https://colab.research.google.com/assets/colab-badge.svg\" alt=\"Open In Colab\"/></a>"
      ]
    },
    {
      "cell_type": "code",
      "execution_count": 33,
      "metadata": {
        "id": "JlUVxAzRbB1g"
      },
      "outputs": [],
      "source": [
        "import numpy as np\n",
        "import pandas as pd\n",
        "import matplotlib.pyplot as plt\n",
        "from sklearn.preprocessing import StandardScaler\n",
        "from sklearn.cluster import KMeans\n",
        "from sklearn.metrics import silhouette_score\n",
        "from sklearn.model_selection import train_test_split\n",
        "import tensorflow as tf\n",
        "from tensorflow.keras.models import Model\n",
        "from tensorflow.keras.layers import Input, Dense\n",
        "from google.colab import files\n"
      ]
    },
    {
      "cell_type": "code",
      "source": [
        "# Upload file\n",
        "uploaded = files.upload()\n"
      ],
      "metadata": {
        "colab": {
          "base_uri": "https://localhost:8080/",
          "height": 73
        },
        "id": "Qj-LOp75k1rQ",
        "outputId": "69de1ec3-9c43-4b50-fbd5-20c5cb1f8ed6"
      },
      "execution_count": 34,
      "outputs": [
        {
          "output_type": "display_data",
          "data": {
            "text/plain": [
              "<IPython.core.display.HTML object>"
            ],
            "text/html": [
              "\n",
              "     <input type=\"file\" id=\"files-a292463c-fae0-4875-b19c-4b64bfc59057\" name=\"files[]\" multiple disabled\n",
              "        style=\"border:none\" />\n",
              "     <output id=\"result-a292463c-fae0-4875-b19c-4b64bfc59057\">\n",
              "      Upload widget is only available when the cell has been executed in the\n",
              "      current browser session. Please rerun this cell to enable.\n",
              "      </output>\n",
              "      <script>// Copyright 2017 Google LLC\n",
              "//\n",
              "// Licensed under the Apache License, Version 2.0 (the \"License\");\n",
              "// you may not use this file except in compliance with the License.\n",
              "// You may obtain a copy of the License at\n",
              "//\n",
              "//      http://www.apache.org/licenses/LICENSE-2.0\n",
              "//\n",
              "// Unless required by applicable law or agreed to in writing, software\n",
              "// distributed under the License is distributed on an \"AS IS\" BASIS,\n",
              "// WITHOUT WARRANTIES OR CONDITIONS OF ANY KIND, either express or implied.\n",
              "// See the License for the specific language governing permissions and\n",
              "// limitations under the License.\n",
              "\n",
              "/**\n",
              " * @fileoverview Helpers for google.colab Python module.\n",
              " */\n",
              "(function(scope) {\n",
              "function span(text, styleAttributes = {}) {\n",
              "  const element = document.createElement('span');\n",
              "  element.textContent = text;\n",
              "  for (const key of Object.keys(styleAttributes)) {\n",
              "    element.style[key] = styleAttributes[key];\n",
              "  }\n",
              "  return element;\n",
              "}\n",
              "\n",
              "// Max number of bytes which will be uploaded at a time.\n",
              "const MAX_PAYLOAD_SIZE = 100 * 1024;\n",
              "\n",
              "function _uploadFiles(inputId, outputId) {\n",
              "  const steps = uploadFilesStep(inputId, outputId);\n",
              "  const outputElement = document.getElementById(outputId);\n",
              "  // Cache steps on the outputElement to make it available for the next call\n",
              "  // to uploadFilesContinue from Python.\n",
              "  outputElement.steps = steps;\n",
              "\n",
              "  return _uploadFilesContinue(outputId);\n",
              "}\n",
              "\n",
              "// This is roughly an async generator (not supported in the browser yet),\n",
              "// where there are multiple asynchronous steps and the Python side is going\n",
              "// to poll for completion of each step.\n",
              "// This uses a Promise to block the python side on completion of each step,\n",
              "// then passes the result of the previous step as the input to the next step.\n",
              "function _uploadFilesContinue(outputId) {\n",
              "  const outputElement = document.getElementById(outputId);\n",
              "  const steps = outputElement.steps;\n",
              "\n",
              "  const next = steps.next(outputElement.lastPromiseValue);\n",
              "  return Promise.resolve(next.value.promise).then((value) => {\n",
              "    // Cache the last promise value to make it available to the next\n",
              "    // step of the generator.\n",
              "    outputElement.lastPromiseValue = value;\n",
              "    return next.value.response;\n",
              "  });\n",
              "}\n",
              "\n",
              "/**\n",
              " * Generator function which is called between each async step of the upload\n",
              " * process.\n",
              " * @param {string} inputId Element ID of the input file picker element.\n",
              " * @param {string} outputId Element ID of the output display.\n",
              " * @return {!Iterable<!Object>} Iterable of next steps.\n",
              " */\n",
              "function* uploadFilesStep(inputId, outputId) {\n",
              "  const inputElement = document.getElementById(inputId);\n",
              "  inputElement.disabled = false;\n",
              "\n",
              "  const outputElement = document.getElementById(outputId);\n",
              "  outputElement.innerHTML = '';\n",
              "\n",
              "  const pickedPromise = new Promise((resolve) => {\n",
              "    inputElement.addEventListener('change', (e) => {\n",
              "      resolve(e.target.files);\n",
              "    });\n",
              "  });\n",
              "\n",
              "  const cancel = document.createElement('button');\n",
              "  inputElement.parentElement.appendChild(cancel);\n",
              "  cancel.textContent = 'Cancel upload';\n",
              "  const cancelPromise = new Promise((resolve) => {\n",
              "    cancel.onclick = () => {\n",
              "      resolve(null);\n",
              "    };\n",
              "  });\n",
              "\n",
              "  // Wait for the user to pick the files.\n",
              "  const files = yield {\n",
              "    promise: Promise.race([pickedPromise, cancelPromise]),\n",
              "    response: {\n",
              "      action: 'starting',\n",
              "    }\n",
              "  };\n",
              "\n",
              "  cancel.remove();\n",
              "\n",
              "  // Disable the input element since further picks are not allowed.\n",
              "  inputElement.disabled = true;\n",
              "\n",
              "  if (!files) {\n",
              "    return {\n",
              "      response: {\n",
              "        action: 'complete',\n",
              "      }\n",
              "    };\n",
              "  }\n",
              "\n",
              "  for (const file of files) {\n",
              "    const li = document.createElement('li');\n",
              "    li.append(span(file.name, {fontWeight: 'bold'}));\n",
              "    li.append(span(\n",
              "        `(${file.type || 'n/a'}) - ${file.size} bytes, ` +\n",
              "        `last modified: ${\n",
              "            file.lastModifiedDate ? file.lastModifiedDate.toLocaleDateString() :\n",
              "                                    'n/a'} - `));\n",
              "    const percent = span('0% done');\n",
              "    li.appendChild(percent);\n",
              "\n",
              "    outputElement.appendChild(li);\n",
              "\n",
              "    const fileDataPromise = new Promise((resolve) => {\n",
              "      const reader = new FileReader();\n",
              "      reader.onload = (e) => {\n",
              "        resolve(e.target.result);\n",
              "      };\n",
              "      reader.readAsArrayBuffer(file);\n",
              "    });\n",
              "    // Wait for the data to be ready.\n",
              "    let fileData = yield {\n",
              "      promise: fileDataPromise,\n",
              "      response: {\n",
              "        action: 'continue',\n",
              "      }\n",
              "    };\n",
              "\n",
              "    // Use a chunked sending to avoid message size limits. See b/62115660.\n",
              "    let position = 0;\n",
              "    do {\n",
              "      const length = Math.min(fileData.byteLength - position, MAX_PAYLOAD_SIZE);\n",
              "      const chunk = new Uint8Array(fileData, position, length);\n",
              "      position += length;\n",
              "\n",
              "      const base64 = btoa(String.fromCharCode.apply(null, chunk));\n",
              "      yield {\n",
              "        response: {\n",
              "          action: 'append',\n",
              "          file: file.name,\n",
              "          data: base64,\n",
              "        },\n",
              "      };\n",
              "\n",
              "      let percentDone = fileData.byteLength === 0 ?\n",
              "          100 :\n",
              "          Math.round((position / fileData.byteLength) * 100);\n",
              "      percent.textContent = `${percentDone}% done`;\n",
              "\n",
              "    } while (position < fileData.byteLength);\n",
              "  }\n",
              "\n",
              "  // All done.\n",
              "  yield {\n",
              "    response: {\n",
              "      action: 'complete',\n",
              "    }\n",
              "  };\n",
              "}\n",
              "\n",
              "scope.google = scope.google || {};\n",
              "scope.google.colab = scope.google.colab || {};\n",
              "scope.google.colab._files = {\n",
              "  _uploadFiles,\n",
              "  _uploadFilesContinue,\n",
              "};\n",
              "})(self);\n",
              "</script> "
            ]
          },
          "metadata": {}
        },
        {
          "output_type": "stream",
          "name": "stdout",
          "text": [
            "Saving IRIS.csv to IRIS (1).csv\n"
          ]
        }
      ]
    },
    {
      "cell_type": "code",
      "source": [
        "\n",
        "# Load the Iris dataset\n",
        "iris = pd.read_csv(next(iter(uploaded.keys())))"
      ],
      "metadata": {
        "id": "U5b3qDUpk-HQ"
      },
      "execution_count": 35,
      "outputs": []
    },
    {
      "cell_type": "code",
      "source": [
        "# Separate features and target labels\n",
        "features = iris.drop(columns=['species'])\n",
        "target = iris['species']"
      ],
      "metadata": {
        "id": "01HQ9T5slBwg"
      },
      "execution_count": 36,
      "outputs": []
    },
    {
      "cell_type": "code",
      "source": [
        "# Standardize the features\n",
        "scaler = StandardScaler()\n",
        "features_scaled = scaler.fit_transform(features)"
      ],
      "metadata": {
        "id": "VZh4sKzMlEEA"
      },
      "execution_count": 37,
      "outputs": []
    },
    {
      "cell_type": "code",
      "source": [
        "\n",
        "# Define the autoencoder model\n",
        "input_dim = features_scaled.shape[1]  # Number of input features\n",
        "encoding_dim = 2  # Dimensionality of the encoding layer"
      ],
      "metadata": {
        "id": "DeVZjVm3lqyR"
      },
      "execution_count": 38,
      "outputs": []
    },
    {
      "cell_type": "code",
      "source": [
        "input_layer = Input(shape=(input_dim,))\n",
        "encoder = Dense(encoding_dim, activation='relu')(input_layer)\n",
        "decoder = Dense(input_dim, activation='sigmoid')(encoder)"
      ],
      "metadata": {
        "id": "JmZ4fmOJmaDH"
      },
      "execution_count": 39,
      "outputs": []
    },
    {
      "cell_type": "code",
      "source": [
        "\n",
        "autoencoder = Model(inputs=input_layer, outputs=decoder)\n",
        "encoder_model = Model(inputs=input_layer, outputs=encoder)"
      ],
      "metadata": {
        "id": "mrSIHICdmhLB"
      },
      "execution_count": 40,
      "outputs": []
    },
    {
      "cell_type": "code",
      "source": [
        "autoencoder.compile(optimizer='sgd', loss='mse')"
      ],
      "metadata": {
        "id": "E7-DVBPEmjw5"
      },
      "execution_count": 41,
      "outputs": []
    },
    {
      "cell_type": "code",
      "source": [
        "# Train the autoencoder\n",
        "X_train, X_test = train_test_split(features_scaled, test_size=0.2, random_state=42)\n",
        "autoencoder.fit(X_train, X_train, epochs=50, batch_size=16, validation_data=(X_test, X_test), verbose=1)"
      ],
      "metadata": {
        "colab": {
          "base_uri": "https://localhost:8080/"
        },
        "id": "npX0Opj2mmwh",
        "outputId": "532e79ab-725e-4cf2-fe2e-6424322eeb1d"
      },
      "execution_count": 42,
      "outputs": [
        {
          "output_type": "stream",
          "name": "stdout",
          "text": [
            "Epoch 1/50\n",
            "8/8 [==============================] - 1s 26ms/step - loss: 1.2180 - val_loss: 1.1137\n",
            "Epoch 2/50\n",
            "8/8 [==============================] - 0s 6ms/step - loss: 1.2125 - val_loss: 1.1083\n",
            "Epoch 3/50\n",
            "8/8 [==============================] - 0s 9ms/step - loss: 1.2069 - val_loss: 1.1033\n",
            "Epoch 4/50\n",
            "8/8 [==============================] - 0s 6ms/step - loss: 1.2016 - val_loss: 1.0982\n",
            "Epoch 5/50\n",
            "8/8 [==============================] - 0s 6ms/step - loss: 1.1962 - val_loss: 1.0929\n",
            "Epoch 6/50\n",
            "8/8 [==============================] - 0s 8ms/step - loss: 1.1905 - val_loss: 1.0876\n",
            "Epoch 7/50\n",
            "8/8 [==============================] - 0s 6ms/step - loss: 1.1849 - val_loss: 1.0825\n",
            "Epoch 8/50\n",
            "8/8 [==============================] - 0s 6ms/step - loss: 1.1795 - val_loss: 1.0776\n",
            "Epoch 9/50\n",
            "8/8 [==============================] - 0s 6ms/step - loss: 1.1743 - val_loss: 1.0728\n",
            "Epoch 10/50\n",
            "8/8 [==============================] - 0s 8ms/step - loss: 1.1691 - val_loss: 1.0676\n",
            "Epoch 11/50\n",
            "8/8 [==============================] - 0s 8ms/step - loss: 1.1635 - val_loss: 1.0623\n",
            "Epoch 12/50\n",
            "8/8 [==============================] - 0s 7ms/step - loss: 1.1578 - val_loss: 1.0574\n",
            "Epoch 13/50\n",
            "8/8 [==============================] - 0s 6ms/step - loss: 1.1526 - val_loss: 1.0523\n",
            "Epoch 14/50\n",
            "8/8 [==============================] - 0s 8ms/step - loss: 1.1472 - val_loss: 1.0477\n",
            "Epoch 15/50\n",
            "8/8 [==============================] - 0s 8ms/step - loss: 1.1421 - val_loss: 1.0430\n",
            "Epoch 16/50\n",
            "8/8 [==============================] - 0s 8ms/step - loss: 1.1371 - val_loss: 1.0380\n",
            "Epoch 17/50\n",
            "8/8 [==============================] - 0s 9ms/step - loss: 1.1315 - val_loss: 1.0331\n",
            "Epoch 18/50\n",
            "8/8 [==============================] - 0s 7ms/step - loss: 1.1261 - val_loss: 1.0280\n",
            "Epoch 19/50\n",
            "8/8 [==============================] - 0s 10ms/step - loss: 1.1204 - val_loss: 1.0233\n",
            "Epoch 20/50\n",
            "8/8 [==============================] - 0s 9ms/step - loss: 1.1151 - val_loss: 1.0187\n",
            "Epoch 21/50\n",
            "8/8 [==============================] - 0s 10ms/step - loss: 1.1100 - val_loss: 1.0142\n",
            "Epoch 22/50\n",
            "8/8 [==============================] - 0s 8ms/step - loss: 1.1049 - val_loss: 1.0094\n",
            "Epoch 23/50\n",
            "8/8 [==============================] - 0s 7ms/step - loss: 1.0996 - val_loss: 1.0049\n",
            "Epoch 24/50\n",
            "8/8 [==============================] - 0s 7ms/step - loss: 1.0946 - val_loss: 1.0004\n",
            "Epoch 25/50\n",
            "8/8 [==============================] - 0s 8ms/step - loss: 1.0895 - val_loss: 0.9959\n",
            "Epoch 26/50\n",
            "8/8 [==============================] - 0s 7ms/step - loss: 1.0845 - val_loss: 0.9914\n",
            "Epoch 27/50\n",
            "8/8 [==============================] - 0s 11ms/step - loss: 1.0797 - val_loss: 0.9870\n",
            "Epoch 28/50\n",
            "8/8 [==============================] - 0s 11ms/step - loss: 1.0748 - val_loss: 0.9827\n",
            "Epoch 29/50\n",
            "8/8 [==============================] - 0s 9ms/step - loss: 1.0701 - val_loss: 0.9783\n",
            "Epoch 30/50\n",
            "8/8 [==============================] - 0s 10ms/step - loss: 1.0653 - val_loss: 0.9741\n",
            "Epoch 31/50\n",
            "8/8 [==============================] - 0s 10ms/step - loss: 1.0606 - val_loss: 0.9698\n",
            "Epoch 32/50\n",
            "8/8 [==============================] - 0s 10ms/step - loss: 1.0559 - val_loss: 0.9658\n",
            "Epoch 33/50\n",
            "8/8 [==============================] - 0s 9ms/step - loss: 1.0514 - val_loss: 0.9619\n",
            "Epoch 34/50\n",
            "8/8 [==============================] - 0s 7ms/step - loss: 1.0471 - val_loss: 0.9580\n",
            "Epoch 35/50\n",
            "8/8 [==============================] - 0s 10ms/step - loss: 1.0428 - val_loss: 0.9540\n",
            "Epoch 36/50\n",
            "8/8 [==============================] - 0s 9ms/step - loss: 1.0385 - val_loss: 0.9503\n",
            "Epoch 37/50\n",
            "8/8 [==============================] - 0s 9ms/step - loss: 1.0342 - val_loss: 0.9466\n",
            "Epoch 38/50\n",
            "8/8 [==============================] - 0s 9ms/step - loss: 1.0301 - val_loss: 0.9430\n",
            "Epoch 39/50\n",
            "8/8 [==============================] - 0s 7ms/step - loss: 1.0261 - val_loss: 0.9394\n",
            "Epoch 40/50\n",
            "8/8 [==============================] - 0s 9ms/step - loss: 1.0220 - val_loss: 0.9359\n",
            "Epoch 41/50\n",
            "8/8 [==============================] - 0s 7ms/step - loss: 1.0181 - val_loss: 0.9325\n",
            "Epoch 42/50\n",
            "8/8 [==============================] - 0s 9ms/step - loss: 1.0142 - val_loss: 0.9291\n",
            "Epoch 43/50\n",
            "8/8 [==============================] - 0s 8ms/step - loss: 1.0104 - val_loss: 0.9260\n",
            "Epoch 44/50\n",
            "8/8 [==============================] - 0s 13ms/step - loss: 1.0068 - val_loss: 0.9229\n",
            "Epoch 45/50\n",
            "8/8 [==============================] - 0s 10ms/step - loss: 1.0032 - val_loss: 0.9198\n",
            "Epoch 46/50\n",
            "8/8 [==============================] - 0s 12ms/step - loss: 0.9998 - val_loss: 0.9169\n",
            "Epoch 47/50\n",
            "8/8 [==============================] - 0s 7ms/step - loss: 0.9964 - val_loss: 0.9140\n",
            "Epoch 48/50\n",
            "8/8 [==============================] - 0s 9ms/step - loss: 0.9932 - val_loss: 0.9113\n",
            "Epoch 49/50\n",
            "8/8 [==============================] - 0s 10ms/step - loss: 0.9901 - val_loss: 0.9086\n",
            "Epoch 50/50\n",
            "8/8 [==============================] - 0s 13ms/step - loss: 0.9870 - val_loss: 0.9058\n"
          ]
        },
        {
          "output_type": "execute_result",
          "data": {
            "text/plain": [
              "<keras.src.callbacks.History at 0x7a30036c3c10>"
            ]
          },
          "metadata": {},
          "execution_count": 42
        }
      ]
    },
    {
      "cell_type": "code",
      "source": [
        "\n",
        "# Encode the data\n",
        "X_encoded = encoder_model.predict(features_scaled)"
      ],
      "metadata": {
        "colab": {
          "base_uri": "https://localhost:8080/"
        },
        "id": "M6WLdyRZmqh4",
        "outputId": "c90319e4-5d73-4f65-c90b-f1a2f4adb989"
      },
      "execution_count": 43,
      "outputs": [
        {
          "output_type": "stream",
          "name": "stdout",
          "text": [
            "5/5 [==============================] - 0s 3ms/step\n"
          ]
        }
      ]
    },
    {
      "cell_type": "code",
      "source": [
        "# Perform K-Means clustering on the encoded data\n",
        "kmeans = KMeans(n_clusters=3, random_state=42)\n",
        "clusters = kmeans.fit_predict(X_encoded)"
      ],
      "metadata": {
        "colab": {
          "base_uri": "https://localhost:8080/"
        },
        "id": "C9DHC1dnmtc5",
        "outputId": "84785b23-7a0b-4323-caa6-6ad780019223"
      },
      "execution_count": 44,
      "outputs": [
        {
          "output_type": "stream",
          "name": "stderr",
          "text": [
            "/usr/local/lib/python3.10/dist-packages/sklearn/cluster/_kmeans.py:870: FutureWarning: The default value of `n_init` will change from 10 to 'auto' in 1.4. Set the value of `n_init` explicitly to suppress the warning\n",
            "  warnings.warn(\n"
          ]
        }
      ]
    },
    {
      "cell_type": "code",
      "source": [
        "# Visualize the clusters\n",
        "plt.scatter(X_encoded[:, 0], X_encoded[:, 1], c=clusters, cmap='viridis')\n",
        "plt.xlabel('Encoded Dimension 1')\n",
        "plt.ylabel('Encoded Dimension 2')\n",
        "plt.title('Clusters in Encoded Space')\n",
        "plt.colorbar()\n",
        "plt.show()"
      ],
      "metadata": {
        "colab": {
          "base_uri": "https://localhost:8080/",
          "height": 472
        },
        "id": "xCeaeq9WmwFw",
        "outputId": "54c2ad3e-def4-4c73-c12f-c36a6bb1b8bc"
      },
      "execution_count": 45,
      "outputs": [
        {
          "output_type": "display_data",
          "data": {
            "text/plain": [
              "<Figure size 640x480 with 2 Axes>"
            ],
            "image/png": "[encoded data removed]"
          },
          "metadata": {}
        }
      ]
    },
    {
      "cell_type": "code",
      "source": [
        "\n",
        "# Calculate silhouette score\n",
        "silhouette_avg = silhouette_score(X_encoded, clusters)\n",
        "print(f'Silhouette Score: {silhouette_avg}')"
      ],
      "metadata": {
        "colab": {
          "base_uri": "https://localhost:8080/"
        },
        "id": "gjNjf_F0m5QB",
        "outputId": "0c21aebe-b787-4db3-d63e-f36d32da0ead"
      },
      "execution_count": 46,
      "outputs": [
        {
          "output_type": "stream",
          "name": "stdout",
          "text": [
            "Silhouette Score: 0.7242141962051392\n"
          ]
        }
      ]
    }
  ]
}