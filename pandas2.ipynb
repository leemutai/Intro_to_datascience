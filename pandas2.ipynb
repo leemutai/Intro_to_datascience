{
  "nbformat": 4,
  "nbformat_minor": 0,
  "metadata": {
    "colab": {
      "provenance": [],
      "authorship_tag": "ABX9TyPxBuxH/dITZUlW/xf0eJDa",
      "include_colab_link": true
    },
    "kernelspec": {
      "name": "python3",
      "display_name": "Python 3"
    },
    "language_info": {
      "name": "python"
    }
  },
  "cells": [
    {
      "cell_type": "markdown",
      "metadata": {
        "id": "view-in-github",
        "colab_type": "text"
      },
      "source": [
        "<a href=\"https://colab.research.google.com/github/leemutai/Intro_to_datascience/blob/main/pandas2.ipynb\" target=\"_parent\"><img src=\"https://colab.research.google.com/assets/colab-badge.svg\" alt=\"Open In Colab\"/></a>"
      ]
    },
    {
      "cell_type": "code",
      "execution_count": 2,
      "metadata": {
        "id": "HyWR06eL1QIc",
        "colab": {
          "base_uri": "https://localhost:8080/"
        },
        "outputId": "fe1029ed-8441-445d-f41c-be616b9eb68d"
      },
      "outputs": [
        {
          "output_type": "stream",
          "name": "stdout",
          "text": [
            "0    5\n",
            "1    4\n",
            "2    3\n",
            "3    2\n",
            "4    1\n",
            "dtype: int64\n",
            "[5 4 3 2 1]\n"
          ]
        }
      ],
      "source": [
        "import numpy as np\n",
        "import pandas as pd\n",
        "mjp = pd.Series([5,4,3,2,1])\n",
        "print(mjp)\n",
        "print(mjp.values)#similar to dictionary"
      ]
    },
    {
      "cell_type": "code",
      "source": [
        "import numpy as np\n",
        "import pandas as pd\n",
        "\n",
        "mjp = pd.Series([5, 4, 3, 2, 1])\n",
        "print(mjp)\n",
        "print(mjp.values)  # similar to dictionary\n"
      ],
      "metadata": {
        "colab": {
          "base_uri": "https://localhost:8080/"
        },
        "id": "3RMzoh3kpBsj",
        "outputId": "8dca684c-c2ec-4f08-eeba-42b1acf83ff9"
      },
      "execution_count": 3,
      "outputs": [
        {
          "output_type": "stream",
          "name": "stdout",
          "text": [
            "0    5\n",
            "1    4\n",
            "2    3\n",
            "3    2\n",
            "4    1\n",
            "dtype: int64\n",
            "[5 4 3 2 1]\n"
          ]
        }
      ]
    }
  ]
}