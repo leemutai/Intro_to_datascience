{
  "nbformat": 4,
  "nbformat_minor": 0,
  "metadata": {
    "colab": {
      "provenance": [],
      "authorship_tag": "ABX9TyNvu90cHzBuDI4/vs+R+J16",
      "include_colab_link": true
    },
    "kernelspec": {
      "name": "python3",
      "display_name": "Python 3"
    },
    "language_info": {
      "name": "python"
    }
  },
  "cells": [
    {
      "cell_type": "markdown",
      "metadata": {
        "id": "view-in-github",
        "colab_type": "text"
      },
      "source": [
        "<a href=\"https://colab.research.google.com/github/leemutai/Intro_to_datascience/blob/main/Intro.ipynb\" target=\"_parent\"><img src=\"https://colab.research.google.com/assets/colab-badge.svg\" alt=\"Open In Colab\"/></a>"
      ]
    },
    {
      "cell_type": "code",
      "execution_count": null,
      "metadata": {
        "colab": {
          "base_uri": "https://localhost:8080/"
        },
        "id": "PmEb1ndrpdMO",
        "outputId": "1739400f-8f7f-4ad1-aad1-896f2833c79a"
      },
      "outputs": [
        {
          "output_type": "stream",
          "name": "stdout",
          "text": [
            "[89 56 34 76 89 98]\n",
            "442\n",
            "34\n",
            "98\n",
            "[[0.74047381 0.62139196]\n",
            " [0.03619724 0.5130315 ]]\n",
            "73.66666666666667\n",
            "442\n"
          ]
        }
      ],
      "source": [
        "import numpy as np\n",
        "\n",
        "scores = [89, 56, 34, 76, 89, 98]\n",
        "first_arr = np.array(scores)\n",
        "print(first_arr)\n",
        "\n",
        "S = np.sum(first_arr)\n",
        "print(S)\n",
        "\n",
        "mn = np.min(first_arr)\n",
        "mx = np.max(first_arr)\n",
        "print(mn)\n",
        "print(mx)\n",
        "\n",
        "e = np.random.random((2, 2))  # create an array filled with random values\n",
        "print(e)\n",
        "\n",
        "datamean =np.mean(first_arr)\n",
        "print(datamean)\n",
        "datasum=np.sum(first_arr)\n",
        "print(datasum)"
      ]
    }
  ]
}