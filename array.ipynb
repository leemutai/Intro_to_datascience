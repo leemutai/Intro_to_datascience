{
  "nbformat": 4,
  "nbformat_minor": 0,
  "metadata": {
    "colab": {
      "provenance": [],
      "authorship_tag": "ABX9TyPnwkeUhKt+ZmpEWYnZimUb",
      "include_colab_link": true
    },
    "kernelspec": {
      "name": "python3",
      "display_name": "Python 3"
    },
    "language_info": {
      "name": "python"
    }
  },
  "cells": [
    {
      "cell_type": "markdown",
      "metadata": {
        "id": "view-in-github",
        "colab_type": "text"
      },
      "source": [
        "<a href=\"https://colab.research.google.com/github/leemutai/Intro_to_datascience/blob/main/array.ipynb\" target=\"_parent\"><img src=\"https://colab.research.google.com/assets/colab-badge.svg\" alt=\"Open In Colab\"/></a>"
      ]
    },
    {
      "cell_type": "code",
      "execution_count": 2,
      "metadata": {
        "colab": {
          "base_uri": "https://localhost:8080/"
        },
        "id": "AeXIy3w2vjQ4",
        "outputId": "cd6d5e29-d0fc-4f47-9e70-6e8044e281d2"
      },
      "outputs": [
        {
          "output_type": "stream",
          "name": "stdout",
          "text": [
            "[[ 6.  8.]\n",
            " [10. 12.]]\n",
            "[[ 6.  8.]\n",
            " [10. 12.]]\n",
            "[[-4. -4.]\n",
            " [-4. -4.]]\n",
            "[[-4. -4.]\n",
            " [-4. -4.]]\n",
            "[[ 5. 12.]\n",
            " [21. 32.]]\n",
            "[[ 5. 12.]\n",
            " [21. 32.]]\n",
            "[[10. 12.]\n",
            " [14. 16.]]\n",
            "[[ 3.  6.]\n",
            " [ 9. 12.]]\n",
            "[[0.2        0.33333333]\n",
            " [0.42857143 0.5       ]]\n",
            "[[0.2        0.33333333]\n",
            " [0.42857143 0.5       ]]\n",
            "[[1.         1.41421356]\n",
            " [1.73205081 2.        ]]\n"
          ]
        }
      ],
      "source": [
        "import numpy as np\n",
        "\n",
        "# Define two NumPy arrays\n",
        "x = np.array([[1,2],[3,4]], dtype=np.float64)\n",
        "y = np.array([[5,6],[7,8]], dtype=np.float64)\n",
        "\n",
        "# Addition\n",
        "print(x + y)  # Element-wise addition\n",
        "print(np.add(x, y))  # Same as above\n",
        "\n",
        "# Subtraction\n",
        "print(x - y)  # Element-wise subtraction\n",
        "print(np.subtract(x, y))  # Same as above\n",
        "\n",
        "# Multiplication\n",
        "print(x * y)  # Element-wise multiplication\n",
        "print(np.multiply(x, y))  # Same as above\n",
        "\n",
        "# Scalar multiplication\n",
        "print(2 * y)  # Scalar multiplication with 2\n",
        "print(3 * x)  # Scalar multiplication with 3\n",
        "\n",
        "# Division\n",
        "print(x / y)  # Element-wise division\n",
        "print(np.divide(x, y))  # Same as above\n",
        "\n",
        "# Square root\n",
        "print(np.sqrt(x))  # Square root of each element in x\n"
      ]
    },
    {
      "cell_type": "code",
      "source": [
        "import pandas as pd\n",
        "from pandas import Series, DataFrame# Series and DataFrame are two structures\n",
        "#avalaible in python series\n",
        "import numpy as np\n",
        "import pandas as pd\n",
        "mip = pd.Series([5,4,3,2,1])\n",
        "print(mip)\n",
        "print(mip.values)#similar to dictionary"
      ],
      "metadata": {
        "colab": {
          "base_uri": "https://localhost:8080/"
        },
        "id": "CofeEebXzG-o",
        "outputId": "390249b8-b743-4489-c669-3e54af4f3dc1"
      },
      "execution_count": 3,
      "outputs": [
        {
          "output_type": "stream",
          "name": "stdout",
          "text": [
            "0    5\n",
            "1    4\n",
            "2    3\n",
            "3    2\n",
            "4    1\n",
            "dtype: int64\n",
            "[5 4 3 2 1]\n"
          ]
        }
      ]
    },
    {
      "cell_type": "code",
      "source": [
        "import numpy as np\n",
        "import pandas as pd\n",
        "mip = pd.Series([5,4,3,2,1])# a simple series\n",
        "print(mip) #A series is represented by index on the left and values on the right\n",
        "print(mip.values)#similar to dictionary\n",
        "series print(mip.index)#return index values of the series\n",
        "print(mip.index)#returns the index values of the series\n",
        "ieeya = pd.series([5,4,3,2,1,-7,-29])"
      ],
      "metadata": {
        "id": "uAxNvofB7BIu"
      },
      "execution_count": null,
      "outputs": []
    }
  ]
}