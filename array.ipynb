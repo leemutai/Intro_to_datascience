{
  "nbformat": 4,
  "nbformat_minor": 0,
  "metadata": {
    "colab": {
      "provenance": [],
      "authorship_tag": "ABX9TyNkTrEb8fMN9zXk4a3cGlGE",
      "include_colab_link": true
    },
    "kernelspec": {
      "name": "python3",
      "display_name": "Python 3"
    },
    "language_info": {
      "name": "python"
    }
  },
  "cells": [
    {
      "cell_type": "markdown",
      "metadata": {
        "id": "view-in-github",
        "colab_type": "text"
      },
      "source": [
        "<a href=\"https://colab.research.google.com/github/leemutai/Intro_to_datascience/blob/main/array.ipynb\" target=\"_parent\"><img src=\"https://colab.research.google.com/assets/colab-badge.svg\" alt=\"Open In Colab\"/></a>"
      ]
    },
    {
      "cell_type": "code",
      "execution_count": 2,
      "metadata": {
        "colab": {
          "base_uri": "https://localhost:8080/"
        },
        "id": "AeXIy3w2vjQ4",
        "outputId": "cd6d5e29-d0fc-4f47-9e70-6e8044e281d2"
      },
      "outputs": [
        {
          "output_type": "stream",
          "name": "stdout",
          "text": [
            "[[ 6.  8.]\n",
            " [10. 12.]]\n",
            "[[ 6.  8.]\n",
            " [10. 12.]]\n",
            "[[-4. -4.]\n",
            " [-4. -4.]]\n",
            "[[-4. -4.]\n",
            " [-4. -4.]]\n",
            "[[ 5. 12.]\n",
            " [21. 32.]]\n",
            "[[ 5. 12.]\n",
            " [21. 32.]]\n",
            "[[10. 12.]\n",
            " [14. 16.]]\n",
            "[[ 3.  6.]\n",
            " [ 9. 12.]]\n",
            "[[0.2        0.33333333]\n",
            " [0.42857143 0.5       ]]\n",
            "[[0.2        0.33333333]\n",
            " [0.42857143 0.5       ]]\n",
            "[[1.         1.41421356]\n",
            " [1.73205081 2.        ]]\n"
          ]
        }
      ],
      "source": [
        "import numpy as np\n",
        "\n",
        "# Define two NumPy arrays\n",
        "x = np.array([[1,2],[3,4]], dtype=np.float64)\n",
        "y = np.array([[5,6],[7,8]], dtype=np.float64)\n",
        "\n",
        "# Addition\n",
        "print(x + y)  # Element-wise addition\n",
        "print(np.add(x, y))  # Same as above\n",
        "\n",
        "# Subtraction\n",
        "print(x - y)  # Element-wise subtraction\n",
        "print(np.subtract(x, y))  # Same as above\n",
        "\n",
        "# Multiplication\n",
        "print(x * y)  # Element-wise multiplication\n",
        "print(np.multiply(x, y))  # Same as above\n",
        "\n",
        "# Scalar multiplication\n",
        "print(2 * y)  # Scalar multiplication with 2\n",
        "print(3 * x)  # Scalar multiplication with 3\n",
        "\n",
        "# Division\n",
        "print(x / y)  # Element-wise division\n",
        "print(np.divide(x, y))  # Same as above\n",
        "\n",
        "# Square root\n",
        "print(np.sqrt(x))  # Square root of each element in x\n"
      ]
    }
  ]
}